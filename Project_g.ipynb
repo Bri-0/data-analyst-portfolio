{
 "cells": [
  {
   "cell_type": "markdown",
   "id": "bfefca19-40a0-40cc-bd97-614b9bb1f1b1",
   "metadata": {},
   "source": [
    "# Table of Contents\n",
    "Goals\n",
    "\n",
    "Data\n",
    "\n",
    "Loading the Data\n",
    "Data Information\n",
    "\n",
    "Data Cleaning\n",
    "Adding an Age Column\n",
    "Checking the Education Variable\n",
    "\n",
    "Exploratory Data Analysis\n",
    "\n",
    "Big Picture\n",
    "Purchasing Behavior by Income\n",
    "More Purchasing Behavior by Income\n",
    "Purchasing Behavior by Education and Income\n",
    "Purchasing Behavior by Age\n",
    "\n",
    "Conclusion\n"
   ]
  },
  {
   "cell_type": "markdown",
   "id": "c5e819a1-2ab3-462c-922a-21c79251058c",
   "metadata": {},
   "source": [
    "## Goals \n",
    "This notebook contains an analysis on some marketing data. The goal for this project was to do the following:\n",
    "\n",
    "Get acquainted with the data\n",
    "Clean the data so it is ready for analysis\n",
    "Develop some questions for analysis\n",
    "Analyze variables within the data to gain patterns and insights on these questions"
   ]
  },
  {
   "cell_type": "markdown",
   "id": "4f48f619-8fc2-4601-be74-8b3f36e0db18",
   "metadata": {},
   "source": [
    "## Data \n",
    "The data for this project was downloaded from Kaggle:\n",
    "\n",
    "https://www.kaggle.com/jackdaoud/marketing-data\n",
    "\n",
    "Information regarding the features for the data are located in the Column section on the website.\n",
    "\n",
    "Some code inspiration for this analysis was sourced from this noteboook."
   ]
  },
  {
   "cell_type": "code",
   "execution_count": null,
   "id": "294754b6-fd52-4932-900f-86ab3146b251",
   "metadata": {},
   "outputs": [],
   "source": []
  }
 ],
 "metadata": {
  "kernelspec": {
   "display_name": "Python [conda env:base] *",
   "language": "python",
   "name": "conda-base-py"
  },
  "language_info": {
   "codemirror_mode": {
    "name": "ipython",
    "version": 3
   },
   "file_extension": ".py",
   "mimetype": "text/x-python",
   "name": "python",
   "nbconvert_exporter": "python",
   "pygments_lexer": "ipython3",
   "version": "3.12.7"
  }
 },
 "nbformat": 4,
 "nbformat_minor": 5
}
